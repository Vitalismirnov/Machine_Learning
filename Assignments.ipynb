{
 "cells": [
  {
   "cell_type": "markdown",
   "metadata": {},
   "source": [
    "\n",
    "================================================================================================================\n",
    "## Module: Machine Learning\n",
    "### Lectirer: Dr. Ian McLoughlin\n",
    "### Student: Vitalis Smirnovs\n",
    "### Student ID: G00317774\n",
    "================================================================================================================\n",
    "\n",
    "\n",
    "# Task1\n",
    "## Computing Square Roots\n",
    "#### October 5th, 2020: Write a Python function called sqrt2 that calculates and prints to the screen the square root of 2 to 100 decimal places.\n",
    "\n",
    "==============================================================================================================="
   ]
  },
  {
   "cell_type": "markdown",
   "metadata": {},
   "source": [
    "Methods of computing square roots are numerical analysis algorithms for finding the principal, or non-negative, square root (usually denoted √S, 2√S, or S1/2) of a real number. Arithmetically, it means given S, a procedure for finding a number which when multiplied by itself, yields S; algebraically, it means a procedure for finding the non-negative root of the equation x2 - S = 0; geometrically, it means given the area of a square, a procedure for constructing a side of the square.\n",
    "\n",
    "Every real number has two square roots.[Note 1] The principal square root of most numbers is an irrational number with an infinite decimal expansion. As a result, the decimal expansion of any such square root can only be computed to some finite-precision approximation. However, even if we are taking the square root of a perfect square integer, so that the result does have an exact finite representation, the procedure used to compute it may only return a series of increasingly accurate approximations.<a href = \"https://en.wikipedia.org/wiki/Square_root\">[1]</a>\n",
    "\n",
    "The continued fraction representation of a real number can be used instead of its decimal or binary expansion and this representation has the property that the square root of any rational number (which is not already a perfect square) has a periodic, repeating expansion, similar to how rational numbers have repeating expansions in the decimal notation system.\n",
    "\n",
    "The most common analytical methods are iterative and consist of two steps: finding a suitable starting value, followed by iterative refinement until some termination criteria is met. The starting value can be any number, but fewer iterations will be required the closer it is to the final result. The most familiar such method, most suited for programmatic calculation, is Newton's method, which is based on a property of the derivative in the calculus. A few methods like paper-and-pencil synthetic division and series expansion, do not require a starting value. In some applications, an integer square root is required, which is the square root rounded or truncated to the nearest integer (a modified procedure may be employed in this case).<a href = \"https://stackoverflow.com/questions/3047012/how-to-perform-square-root-without-using-math-module\">[2]</a>\n",
    "\n",
    "Procedures for finding square roots (particularly the square root of 2) have been known since at least the period of ancient Babylon in the 17th century BCE. Heron's method from first century Egypt was the first ascertainable algorithm for computing square root. Modern analytic methods began to be developed after introduction of the Arabic numeral system to western Europe in the early Renaissance. Today, nearly all computing devices have a fast and accurate square root function, either as a programming language construct, a compiler intrinsic or library function, or as a hardware operator, based on one of the described procedures. <a href = \"https://stackoverflow.com/questions/64278117/is-there-a-way-to-create-more-decimal-points-on-python-without-importing-a-libra\">[3]</a>\n",
    "\n",
    "\n",
    "    \n",
    "    \n",
    "   \n",
    "           \n",
    "        \n",
    "        \n",
    "        "
   ]
  },
  {
   "cell_type": "code",
   "execution_count": 1,
   "metadata": {},
   "outputs": [
    {
     "name": "stdout",
     "output_type": "stream",
     "text": [
      "final x  11429873912822749822157835483053409594519099948227986612151258432276326359067381956754480218601720296\n",
      "1.1429873912822749822157835483053409594519099948227986612151258432276326359067381956754480218601720296\n"
     ]
    }
   ],
   "source": [
    "# adapted from https://stackoverflow.com/questions/64278117/is-there-a-way-to-create-more-decimal-points-on-python-without-importing-a-libra?fbclid=IwAR1kPB2mUWK738A-6V39M5EQ9PIasECH8Rlv3Csa8_0UL-7i9B5HvipP3-Q\n",
    "def sqroot(number):\n",
    "    # inflate a number\n",
    "    s=number*10**200 \n",
    "    # choose a first guess\n",
    "    x=s//2\n",
    "    # while the the difference between the guess squared and the number is not zero:\n",
    "    while (s-x**2)<0:\n",
    "        # apply Newton's \n",
    "        x=(x-x//s)//2\n",
    "    # print the result unformated\n",
    "    print(\"final x \", x)\n",
    "    # print the final result formatted\n",
    "    print(f'{x // 10**100}.{x % 10**100:0100d}')\n",
    "#call a sqroot function for number 2    \n",
    "sqroot(2)\n"
   ]
  },
  {
   "cell_type": "markdown",
   "metadata": {},
   "source": [
    "### References\n",
    "[1] https://en.wikipedia.org/wiki/Square_root </br>\n",
    "[2] https://stackoverflow.com/questions/3047012/how-to-perform-square-root-without-using-math-module \\n\n",
    "[3] https://stackoverflow.com/questions/64278117/is-there-a-way-to-create-more-decimal-points-on-python-without-importing-a-libra \\n"
   ]
  },
  {
   "attachments": {},
   "cell_type": "markdown",
   "metadata": {},
   "source": [
    "## Task2\n",
    "\n",
    "### The Chi-squared test for independence\n",
    "\n",
    "\n",
    "In this task I will use chi-squared test for categorical data where we suppose a city of 1,000.000 residents with the 4 groups of neighbourhoods A, B, C and D. I would analyse a random sample of 650 residents and their occupation as \"white collar\", \"blue collar\", or \"no collar\". I will use test for independence as a statistical hypothesis test and will use to analyse whether two categorical variables are independent. The scipy.stats will be used to calculate the associated value to verify statistical output.\n",
    "\n",
    "The data are tabulated as classification data were neighborhood residence is independent of the person's occupational classification:\n",
    "\n",
    "|              \t|  A  \t|  B  \t|  C  \t|  D  \t| total \t|\n",
    "|:------------:\t|:---:\t|:---:\t|:---:\t|:---:\t|:-----:\t|\n",
    "| White collar \t|  90 \t|  60 \t| 104 \t|  95 \t|   349 \t|\n",
    "| Blue collar  \t|  30 \t|  50 \t|  51 \t|  20 \t|   151 \t|\n",
    "| No collar    \t|  30 \t|  40 \t|  45 \t|  35 \t|   150 \t|\n",
    "| Total        \t| 150 \t| 150 \t| 200 \t| 150 \t|  650  \t|\n",
    "\n",
    "\n",
    "If we will take the sample living in neighborhood A, 150, to estimate what proportion of the whole 1,000,000 live in neighborhood A. Similarly we take 349/650 to estimate what proportion of the 1,000,000 are white-collar workers. By the assumption of independence under the hypothesis we should \"expect\" the number of white-collar workers in neighborhood A to be\n",
    "\n",
    "\n",
    "\n",
    "$$150 * \\frac{349}{650} \\approx 80.54$$\n",
    "\n",
    "\n",
    "Then in that \"cell\" of the table, we have \n",
    "\n",
    "$$\\frac{(observed - expected)^{2}}{ expected}=\\frac{(90 - 80.54)^{2}}{80.54}\\approx 1.11$$\n",
    "\n",
    "\n",
    "The sum of these quantities over all of the cells is the test statistic; in this case, ${\\displaystyle \\approx 24.6}$. Under the null hypothesis, this sum has approximately a chi-squared distribution whose number of degrees of freedom are\n",
    "\n",
    "\n",
    "$(number of rows -1)(number of columns -1)=(3-1)(4 -1 )= 6$\n",
    "\n",
    "\n",
    "If the test statistic is improbably large according to that chi-squared distribution, then one rejects the null hypothesis of independence.\n",
    "\n",
    "A related issue is a test of homogeneity. In this calculation instead of giving every resident of each of the four neighborhoods an equal chance of inclusion in the sample, we decide in advance how many residents of each neighborhood to include. Then each resident has the same chance of being chosen as do all residents of the same neighborhood, but residents of different neighborhoods would have different probabilities of being chosen if the four sample sizes are not proportional to the populations of the four neighborhoods. In such a case, we would be testing \"homogeneity\" rather than \"independence\". The question is whether the proportions of blue-collar, white-collar, and no-collar workers in the four neighborhoods are the same. However, the test is done in the same way.<a href = \"https://en.wikipedia.org/wiki/Chi-squared_test\">[1]</a>\n",
    "\n",
    "\n",
    "\n",
    "\n"
   ]
  },
  {
   "cell_type": "markdown",
   "metadata": {},
   "source": [
    "### Pearson's chi-squared test with Python: \n"
   ]
  },
  {
   "cell_type": "code",
   "execution_count": 2,
   "metadata": {},
   "outputs": [],
   "source": [
    "# python imported libraries\n",
    "import numpy as np \n",
    "import pandas as pd\n",
    "import scipy\n",
    "from scipy.stats import chi2"
   ]
  },
  {
   "cell_type": "code",
   "execution_count": 3,
   "metadata": {},
   "outputs": [
    {
     "data": {
      "text/html": [
       "<div>\n",
       "<style scoped>\n",
       "    .dataframe tbody tr th:only-of-type {\n",
       "        vertical-align: middle;\n",
       "    }\n",
       "\n",
       "    .dataframe tbody tr th {\n",
       "        vertical-align: top;\n",
       "    }\n",
       "\n",
       "    .dataframe thead th {\n",
       "        text-align: right;\n",
       "    }\n",
       "</style>\n",
       "<table border=\"1\" class=\"dataframe\">\n",
       "  <thead>\n",
       "    <tr style=\"text-align: right;\">\n",
       "      <th></th>\n",
       "      <th>A</th>\n",
       "      <th>B</th>\n",
       "      <th>C</th>\n",
       "      <th>D</th>\n",
       "    </tr>\n",
       "  </thead>\n",
       "  <tbody>\n",
       "    <tr>\n",
       "      <th>White collar</th>\n",
       "      <td>90</td>\n",
       "      <td>60</td>\n",
       "      <td>104</td>\n",
       "      <td>95</td>\n",
       "    </tr>\n",
       "    <tr>\n",
       "      <th>Blue collar</th>\n",
       "      <td>30</td>\n",
       "      <td>50</td>\n",
       "      <td>51</td>\n",
       "      <td>20</td>\n",
       "    </tr>\n",
       "    <tr>\n",
       "      <th>No collar</th>\n",
       "      <td>30</td>\n",
       "      <td>40</td>\n",
       "      <td>45</td>\n",
       "      <td>35</td>\n",
       "    </tr>\n",
       "  </tbody>\n",
       "</table>\n",
       "</div>"
      ],
      "text/plain": [
       "               A   B    C   D\n",
       "White collar  90  60  104  95\n",
       "Blue collar   30  50   51  20\n",
       "No collar     30  40   45  35"
      ]
     },
     "execution_count": 3,
     "metadata": {},
     "output_type": "execute_result"
    }
   ],
   "source": [
    "# contingency table with floats to avoid datatype issues with pd.DataFrame.at \n",
    "ar=np.array([[90,60,104,95],[30,50,51,20],[30,40,45,35]])    \n",
    "df=pd.DataFrame(ar, columns=[\"A\", \"B\", \"C\", \"D\"])\n",
    "df.index=[\"White collar\", \"Blue collar\", \"No collar\"] \n",
    "df"
   ]
  },
  {
   "cell_type": "code",
   "execution_count": null,
   "metadata": {},
   "outputs": [],
   "source": []
  },
  {
   "cell_type": "code",
   "execution_count": 4,
   "metadata": {},
   "outputs": [
    {
     "data": {
      "text/html": [
       "<div>\n",
       "<style scoped>\n",
       "    .dataframe tbody tr th:only-of-type {\n",
       "        vertical-align: middle;\n",
       "    }\n",
       "\n",
       "    .dataframe tbody tr th {\n",
       "        vertical-align: top;\n",
       "    }\n",
       "\n",
       "    .dataframe thead th {\n",
       "        text-align: right;\n",
       "    }\n",
       "</style>\n",
       "<table border=\"1\" class=\"dataframe\">\n",
       "  <thead>\n",
       "    <tr style=\"text-align: right;\">\n",
       "      <th></th>\n",
       "      <th>A</th>\n",
       "      <th>B</th>\n",
       "      <th>C</th>\n",
       "      <th>D</th>\n",
       "      <th>Row_Total</th>\n",
       "    </tr>\n",
       "  </thead>\n",
       "  <tbody>\n",
       "    <tr>\n",
       "      <th>White collar</th>\n",
       "      <td>90</td>\n",
       "      <td>60</td>\n",
       "      <td>104</td>\n",
       "      <td>95</td>\n",
       "      <td>349</td>\n",
       "    </tr>\n",
       "    <tr>\n",
       "      <th>Blue collar</th>\n",
       "      <td>30</td>\n",
       "      <td>50</td>\n",
       "      <td>51</td>\n",
       "      <td>20</td>\n",
       "      <td>151</td>\n",
       "    </tr>\n",
       "    <tr>\n",
       "      <th>No collar</th>\n",
       "      <td>30</td>\n",
       "      <td>40</td>\n",
       "      <td>45</td>\n",
       "      <td>35</td>\n",
       "      <td>150</td>\n",
       "    </tr>\n",
       "    <tr>\n",
       "      <th>Column_Total</th>\n",
       "      <td>150</td>\n",
       "      <td>150</td>\n",
       "      <td>200</td>\n",
       "      <td>150</td>\n",
       "      <td>650</td>\n",
       "    </tr>\n",
       "  </tbody>\n",
       "</table>\n",
       "</div>"
      ],
      "text/plain": [
       "                A    B    C    D  Row_Total\n",
       "White collar   90   60  104   95        349\n",
       "Blue collar    30   50   51   20        151\n",
       "No collar      30   40   45   35        150\n",
       "Column_Total  150  150  200  150        650"
      ]
     },
     "execution_count": 4,
     "metadata": {},
     "output_type": "execute_result"
    }
   ],
   "source": [
    "df2=df.copy() # contingency table with the marginal totals and the grand total. \n",
    "df2.loc['Column_Total']= df2.sum(numeric_only=True, axis=0)\n",
    "df2.loc[:,'Row_Total'] = df2.sum(numeric_only=True, axis=1)\n",
    "df2"
   ]
  },
  {
   "cell_type": "code",
   "execution_count": 5,
   "metadata": {},
   "outputs": [
    {
     "data": {
      "text/html": [
       "<div>\n",
       "<style scoped>\n",
       "    .dataframe tbody tr th:only-of-type {\n",
       "        vertical-align: middle;\n",
       "    }\n",
       "\n",
       "    .dataframe tbody tr th {\n",
       "        vertical-align: top;\n",
       "    }\n",
       "\n",
       "    .dataframe thead th {\n",
       "        text-align: right;\n",
       "    }\n",
       "</style>\n",
       "<table border=\"1\" class=\"dataframe\">\n",
       "  <thead>\n",
       "    <tr style=\"text-align: right;\">\n",
       "      <th></th>\n",
       "      <th>A</th>\n",
       "      <th>B</th>\n",
       "      <th>C</th>\n",
       "      <th>D</th>\n",
       "    </tr>\n",
       "  </thead>\n",
       "  <tbody>\n",
       "    <tr>\n",
       "      <th>White collar</th>\n",
       "      <td>80.538462</td>\n",
       "      <td>80.538462</td>\n",
       "      <td>107.384615</td>\n",
       "      <td>80.538462</td>\n",
       "    </tr>\n",
       "    <tr>\n",
       "      <th>Blue collar</th>\n",
       "      <td>34.846154</td>\n",
       "      <td>34.846154</td>\n",
       "      <td>46.461538</td>\n",
       "      <td>34.846154</td>\n",
       "    </tr>\n",
       "    <tr>\n",
       "      <th>No collar</th>\n",
       "      <td>34.615385</td>\n",
       "      <td>34.615385</td>\n",
       "      <td>46.153846</td>\n",
       "      <td>34.615385</td>\n",
       "    </tr>\n",
       "  </tbody>\n",
       "</table>\n",
       "</div>"
      ],
      "text/plain": [
       "                      A          B           C          D\n",
       "White collar  80.538462  80.538462  107.384615  80.538462\n",
       "Blue collar   34.846154  34.846154   46.461538  34.846154\n",
       "No collar     34.615385  34.615385   46.153846  34.615385"
      ]
     },
     "execution_count": 5,
     "metadata": {},
     "output_type": "execute_result"
    }
   ],
   "source": [
    "\n",
    "n=df2.at[\"Column_Total\", \"Row_Total\"]  # grand total \n",
    "n2=df2.iloc[2,2]\n",
    "# new empty data frame to record expected values\n",
    "exp=pd.DataFrame(columns=[\"A\", \"B\", \"C\", \"D\"],index=[\"White collar\", \"Blue collar\", \"No collar\"] ,dtype=float )\n",
    "\n",
    "# loop over cells to calculate expected values\n",
    "for x in exp.index[0:]:\n",
    "    for y in exp.columns[0:]:\n",
    "        # calculate expected value:\n",
    "        var= float(((df2.at[x, \"Row_Total\"]) * (df2.at[\"Column_Total\", y])   )   /n ) \n",
    "        exp.at[x,y]=float(var)\n",
    "\n",
    "exp        \n"
   ]
  },
  {
   "cell_type": "code",
   "execution_count": 6,
   "metadata": {
    "scrolled": true
   },
   "outputs": [
    {
     "name": "stdout",
     "output_type": "stream",
     "text": [
      "               A   B    C   D\n",
      "White collar  90  60  104  95\n",
      "Blue collar   30  50   51  20\n",
      "No collar     30  40   45  35\n",
      "                      A          B           C          D\n",
      "White collar  80.538462  80.538462  107.384615  80.538462\n",
      "Blue collar   34.846154  34.846154   46.461538  34.846154\n",
      "No collar     34.615385  34.615385   46.153846  34.615385\n",
      "sum : 24.5712028585826\n"
     ]
    }
   ],
   "source": [
    "print(df)\n",
    "print(exp)\n",
    "sum=0\n",
    "for x in exp.index[0:]:\n",
    "    for y in exp.columns[0:]:\n",
    "        # calculation of expected values:\n",
    "        #print(df.at[x,y] )\n",
    "        #print(exp.at[x,y])\n",
    "        sum = sum + ((df.at[x,y] - exp.at[x,y])**2/(exp.at[x,y]) ) \n",
    "        \n",
    "print('sum :',sum)\n"
   ]
  },
  {
   "cell_type": "code",
   "execution_count": 7,
   "metadata": {},
   "outputs": [
    {
     "data": {
      "text/plain": [
       "6"
      ]
     },
     "execution_count": 7,
     "metadata": {},
     "output_type": "execute_result"
    }
   ],
   "source": [
    "DOF = (len(df.columns)-1)*(len(df.index)-1) # degrees of freedom \n",
    "DOF"
   ]
  },
  {
   "cell_type": "code",
   "execution_count": 8,
   "metadata": {},
   "outputs": [
    {
     "data": {
      "text/plain": [
       "0.0004098425861096544"
      ]
     },
     "execution_count": 8,
     "metadata": {},
     "output_type": "execute_result"
    }
   ],
   "source": [
    "pval=1-chi2.cdf(sum, DOF) # subtraction the cumulative distribution function from 1\n",
    "pval"
   ]
  },
  {
   "cell_type": "code",
   "execution_count": 9,
   "metadata": {},
   "outputs": [
    {
     "name": "stdout",
     "output_type": "stream",
     "text": [
      "Chi-squared test statistic without Yates correction (Scipy): 24.5712028585826\n",
      "P-value without Yates correction (Scipy): 0.0004098425861096696\n"
     ]
    }
   ],
   "source": [
    "from scipy.stats import chi2_contingency # Scipy's built-in function\n",
    "\n",
    "tstat_scipy,pval_scipy,ddof_scipy,exp_scipy=chi2_contingency(df, correction=False) # \"correction=False\" means no Yates' correction is used \n",
    "print(\"Chi-squared test statistic without Yates correction (Scipy): \" + str(tstat_scipy))\n",
    "print(\"P-value without Yates correction (Scipy): \" + str(pval_scipy))"
   ]
  },
  {
   "attachments": {},
   "cell_type": "markdown",
   "metadata": {},
   "source": [
    "## Chi-squared test with Yates correction:\n",
    "\n",
    "##### All the aforementioned steps are basically the same but we use the following (adjusted) formula to determine our test statistic:\n",
    "\n",
    "\n",
    "$$\\chi^2 {\\text{yates}} = \\sum_{\\text{i}} \\frac{(|O_\\text{i} - E_\\text{i}|-0.5)^2}{E_\\text{i}}$$"
   ]
  },
  {
   "cell_type": "code",
   "execution_count": 10,
   "metadata": {},
   "outputs": [
    {
     "data": {
      "text/html": [
       "<div>\n",
       "<style scoped>\n",
       "    .dataframe tbody tr th:only-of-type {\n",
       "        vertical-align: middle;\n",
       "    }\n",
       "\n",
       "    .dataframe tbody tr th {\n",
       "        vertical-align: top;\n",
       "    }\n",
       "\n",
       "    .dataframe thead th {\n",
       "        text-align: right;\n",
       "    }\n",
       "</style>\n",
       "<table border=\"1\" class=\"dataframe\">\n",
       "  <thead>\n",
       "    <tr style=\"text-align: right;\">\n",
       "      <th></th>\n",
       "      <th>A</th>\n",
       "      <th>B</th>\n",
       "      <th>C</th>\n",
       "      <th>D</th>\n",
       "    </tr>\n",
       "  </thead>\n",
       "  <tbody>\n",
       "    <tr>\n",
       "      <th>White collar</th>\n",
       "      <td>90</td>\n",
       "      <td>60</td>\n",
       "      <td>104</td>\n",
       "      <td>95</td>\n",
       "    </tr>\n",
       "    <tr>\n",
       "      <th>Blue collar</th>\n",
       "      <td>30</td>\n",
       "      <td>50</td>\n",
       "      <td>51</td>\n",
       "      <td>20</td>\n",
       "    </tr>\n",
       "    <tr>\n",
       "      <th>No collar</th>\n",
       "      <td>30</td>\n",
       "      <td>40</td>\n",
       "      <td>45</td>\n",
       "      <td>35</td>\n",
       "    </tr>\n",
       "  </tbody>\n",
       "</table>\n",
       "</div>"
      ],
      "text/plain": [
       "               A   B    C   D\n",
       "White collar  90  60  104  95\n",
       "Blue collar   30  50   51  20\n",
       "No collar     30  40   45  35"
      ]
     },
     "execution_count": 10,
     "metadata": {},
     "output_type": "execute_result"
    }
   ],
   "source": [
    "df"
   ]
  },
  {
   "cell_type": "code",
   "execution_count": 11,
   "metadata": {},
   "outputs": [
    {
     "data": {
      "text/html": [
       "<div>\n",
       "<style scoped>\n",
       "    .dataframe tbody tr th:only-of-type {\n",
       "        vertical-align: middle;\n",
       "    }\n",
       "\n",
       "    .dataframe tbody tr th {\n",
       "        vertical-align: top;\n",
       "    }\n",
       "\n",
       "    .dataframe thead th {\n",
       "        text-align: right;\n",
       "    }\n",
       "</style>\n",
       "<table border=\"1\" class=\"dataframe\">\n",
       "  <thead>\n",
       "    <tr style=\"text-align: right;\">\n",
       "      <th></th>\n",
       "      <th>A</th>\n",
       "      <th>B</th>\n",
       "      <th>C</th>\n",
       "      <th>D</th>\n",
       "    </tr>\n",
       "  </thead>\n",
       "  <tbody>\n",
       "    <tr>\n",
       "      <th>White collar</th>\n",
       "      <td>80.538462</td>\n",
       "      <td>80.538462</td>\n",
       "      <td>107.384615</td>\n",
       "      <td>80.538462</td>\n",
       "    </tr>\n",
       "    <tr>\n",
       "      <th>Blue collar</th>\n",
       "      <td>34.846154</td>\n",
       "      <td>34.846154</td>\n",
       "      <td>46.461538</td>\n",
       "      <td>34.846154</td>\n",
       "    </tr>\n",
       "    <tr>\n",
       "      <th>No collar</th>\n",
       "      <td>34.615385</td>\n",
       "      <td>34.615385</td>\n",
       "      <td>46.153846</td>\n",
       "      <td>34.615385</td>\n",
       "    </tr>\n",
       "  </tbody>\n",
       "</table>\n",
       "</div>"
      ],
      "text/plain": [
       "                      A          B           C          D\n",
       "White collar  80.538462  80.538462  107.384615  80.538462\n",
       "Blue collar   34.846154  34.846154   46.461538  34.846154\n",
       "No collar     34.615385  34.615385   46.153846  34.615385"
      ]
     },
     "execution_count": 11,
     "metadata": {},
     "output_type": "execute_result"
    }
   ],
   "source": [
    "exp\n"
   ]
  },
  {
   "cell_type": "code",
   "execution_count": 12,
   "metadata": {},
   "outputs": [
    {
     "data": {
      "text/plain": [
       "6"
      ]
     },
     "execution_count": 12,
     "metadata": {},
     "output_type": "execute_result"
    }
   ],
   "source": [
    "dof = (len(df.columns)-1)*(len(df.index)-1)\n",
    "dof"
   ]
  },
  {
   "cell_type": "code",
   "execution_count": 13,
   "metadata": {},
   "outputs": [
    {
     "name": "stdout",
     "output_type": "stream",
     "text": [
      "Chi-squared test statistic with Yates correction: 22.630576336573963\n",
      "P-value with Yates correction: 0.0009301351063994989\n"
     ]
    }
   ],
   "source": [
    "# Applied Yates' correction by subtracting 0.5 from the absolute difference between observed and expected counts: \n",
    "tstat_yates= np.sum((((np.abs(df-exp)-0.5)**2)  / (exp)).values)\n",
    "print(\"Chi-squared test statistic with Yates correction: \" + str(tstat_yates))\n",
    "\n",
    "pval=1-   chi2.cdf(tstat_yates, dof)\n",
    "print(\"P-value with Yates correction: \" + str(pval))"
   ]
  },
  {
   "cell_type": "code",
   "execution_count": 14,
   "metadata": {},
   "outputs": [
    {
     "name": "stdout",
     "output_type": "stream",
     "text": [
      "Chi-squared test statistic with Yates correction (Scipy): 24.5712028585826\n",
      "P-value with Yates correction (Scipy): 0.0004098425861096696\n"
     ]
    }
   ],
   "source": [
    "\n",
    "from scipy.stats import chi2_contingency\n",
    "tstat_scipy,pval_scipy,ddof_scipy,exp_scipy=chi2_contingency(df, correction=True)# \"correction=True\" to apply Yates' correction\n",
    "print(\"Chi-squared test statistic with Yates correction (Scipy): \" + str(tstat_scipy))\n",
    "print(\"P-value with Yates correction (Scipy): \" + str(pval_scipy))"
   ]
  },
  {
   "cell_type": "markdown",
   "metadata": {},
   "source": [
    "# References:\n",
    "<a href = \"https://chrisalbon.com/python/data_wrangling/pandas_dropping_column_and_rows/\">[1]</a>\n",
    "<a href = \"https://pythonexamples.org/pandas-create-initialize-dataframe/\">[2]</a>\n",
    "<a href = \"https://www.medcalc.org/manual/chi-square-table.php\">[3]</a>\n",
    "<a href = \"https://github.com/BundleOfKent/Pearson-s-chi-squared-test-from-scratch/blob/master/Chi-squaredFromScratch_Medium.ipynb\">[4]</a>\n",
    "<a href = \"https://medium.com/analytics-vidhya/pearsons-chi-squared-test-from-scratch-with-python-ba9e14d336c\">[5]</a>\n",
    "<a href = \"https://docs.scipy.org/doc/scipy/reference/generated/scipy.stats.chisquare.html\">[6]</a>\n",
    "\n"
   ]
  },
  {
   "cell_type": "code",
   "execution_count": null,
   "metadata": {},
   "outputs": [],
   "source": []
  }
 ],
 "metadata": {
  "kernelspec": {
   "display_name": "Python 3",
   "language": "python",
   "name": "python3"
  },
  "language_info": {
   "codemirror_mode": {
    "name": "ipython",
    "version": 3
   },
   "file_extension": ".py",
   "mimetype": "text/x-python",
   "name": "python",
   "nbconvert_exporter": "python",
   "pygments_lexer": "ipython3",
   "version": "3.8.3"
  }
 },
 "nbformat": 4,
 "nbformat_minor": 4
}
